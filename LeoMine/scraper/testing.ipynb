{
 "cells": [
  {
   "cell_type": "code",
   "execution_count": 14,
   "metadata": {},
   "outputs": [],
   "source": [
    "import pandas as pd\n",
    "df = pd.read_csv (r'./database/db.csv')\n",
    "df.to_json (r'./database/data.json')\n"
   ]
  },
  {
   "cell_type": "code",
   "execution_count": 22,
   "metadata": {},
   "outputs": [],
   "source": [
    "data = get_data(\"./database/data.json\")"
   ]
  },
  {
   "cell_type": "code",
   "execution_count": 24,
   "metadata": {},
   "outputs": [
    {
     "name": "stdout",
     "output_type": "stream",
     "text": [
      "{'Regions': 'Belan Ganj ', 'City': 'Agra', 'Latitude': '', 'Longitude': '', 'Murder': 0, 'Rape': 0, 'Kidnapping': 0, 'Robbery': 0, 'Holding hostage': 0, 'Riot': 0, 'Arson': 0, 'Assault': 0, 'Covid': 0}\n"
     ]
    }
   ],
   "source": [
    "for row in data:\n",
    "    print(row)\n",
    "    break"
   ]
  },
  {
   "cell_type": "code",
   "execution_count": 25,
   "metadata": {},
   "outputs": [],
   "source": [
    "url = \"https://www.hindustantimes.com/cricket/felt-that-i-m-not-good-enough-sachin-tendulkar-reveals-ravi-shastri-s-advice-that-changed-his-career/story-db7oGOo6BFWw7xRb0sL49J.html\""
   ]
  },
  {
   "cell_type": "code",
   "execution_count": 27,
   "metadata": {},
   "outputs": [],
   "source": [
    "from newspaper import Article\n",
    "article = Article(url)\n",
    "article.download()\n",
    "article.parse()\n",
    "article.nlp()\n",
    "#print(article.publish_date)\n",
    "summary = article.text\n",
    "article_text = summary"
   ]
  },
  {
   "cell_type": "code",
   "execution_count": 28,
   "metadata": {},
   "outputs": [
    {
     "data": {
      "text/plain": [
       "'cricket\\n\\nUpdated: Apr 25, 2020 16:13 IST\\n\\nSachin Tendulkar is usually refered to as ‘god of cricket’ by the fans (specially Indian) due to his achievements in the sport. He has broken and made numerous cricketing records during his illustrious career. However, there was a time when Sachin was struggling to get going in cricket. Pakistani bowlers are one of the most feared in the world and in 1989, Sachin had to face the likes of Wasim Akram and Waqar Younis in his very first game.\\n\\n16-year-old Sachin had to endure numerous blows to his body at the hands of the Pakistani pace attack and eventually made 15 runs in his debut innings. Tendulkar revealed that he felt completely out of place after the match and believed that match could be his ‘first and the last outing’.\\n\\nBut Tendulkar said that a suggestion from current coach Ravi Shastri changed everything for him and there was no looking back.\\n\\nREAD | ‘It still haunts us sometimes’: KL Rahul reveals which match gives him ‘nightmares’\\n\\n“I was clueless; I have to admit that. I played the first Test as if I was playing a school match,” Sachin told Nasser Hussain during ‘Nasser meets Sachin’ episode on Skysports.\\n\\n“Wasim and Waqar were bowling quick, and they were delivering short balls and all sorts of intimidating things they could do. I had never experienced anything like that, so the first outing wasn’t a pleasant one.\\n\\n“Occasionally, I got beaten by their pace and bounce, and when I got out on 15, I felt embarrassed when I walked back to the dressing room. I was like ‘what have you done, why did you play like this’ and then when I reached the dressing room, I went straight to the bathroom, and I was almost in tears.\\n\\n“I felt I was completely out of place. I looked at myself and questioned myself and said: ‘looks like this is gonna be your first and the last outing’. I felt that I’m not good enough to play at this level. I was upset and feeling low.”\\n\\nThe team members realised what had happened and Shastri spoke to him.\\n\\n“The teammates realised. I still remember the conversation I had with Ravi Shastri. Ravi said, ‘you played as if it was a school match. You are playing against the best bowlers; you need to respect their ability and their skill.\\n\\nREAD| ‘If you need money, stop activities at border, use it to build hospitals’: Kapil Dev\\n\\n“Then I told Ravi that I got beaten by their (Pakistan bowlers) pace. To which Ravi said: ‘That happens to quite a few, you don’t worry. You just look to go out and spend half an hour in the middle and then you will get adjusted to their pace, and everything will fall into place after that’.”\\n\\nFollowing the advice in the next game in Faisalabad worked and the rest as they say is history.\\n\\n“When I was picked to play in the second Test at Faisalabad, the only thing on my mind was, I’m not gonna look at the scoreboard. I will only look at the clock and not worry about scoring runs. I batted for half an hour, and I felt really comfortable and I scored 59 runs in that match and after that things started changing,” he said.\\n\\n(with IANS inputs)'"
      ]
     },
     "execution_count": 28,
     "metadata": {},
     "output_type": "execute_result"
    }
   ],
   "source": [
    "summary"
   ]
  },
  {
   "cell_type": "code",
   "execution_count": 1,
   "metadata": {},
   "outputs": [
    {
     "data": {
      "text/html": [
       "<div>\n",
       "<style scoped>\n",
       "    .dataframe tbody tr th:only-of-type {\n",
       "        vertical-align: middle;\n",
       "    }\n",
       "\n",
       "    .dataframe tbody tr th {\n",
       "        vertical-align: top;\n",
       "    }\n",
       "\n",
       "    .dataframe thead th {\n",
       "        text-align: right;\n",
       "    }\n",
       "</style>\n",
       "<table border=\"1\" class=\"dataframe\">\n",
       "  <thead>\n",
       "    <tr style=\"text-align: right;\">\n",
       "      <th></th>\n",
       "      <th>good movie</th>\n",
       "      <th>like</th>\n",
       "      <th>movie</th>\n",
       "      <th>not</th>\n",
       "    </tr>\n",
       "  </thead>\n",
       "  <tbody>\n",
       "    <tr>\n",
       "      <th>0</th>\n",
       "      <td>0.707107</td>\n",
       "      <td>0.000000</td>\n",
       "      <td>0.707107</td>\n",
       "      <td>0.000000</td>\n",
       "    </tr>\n",
       "    <tr>\n",
       "      <th>1</th>\n",
       "      <td>0.577350</td>\n",
       "      <td>0.000000</td>\n",
       "      <td>0.577350</td>\n",
       "      <td>0.577350</td>\n",
       "    </tr>\n",
       "    <tr>\n",
       "      <th>2</th>\n",
       "      <td>0.000000</td>\n",
       "      <td>0.707107</td>\n",
       "      <td>0.000000</td>\n",
       "      <td>0.707107</td>\n",
       "    </tr>\n",
       "    <tr>\n",
       "      <th>3</th>\n",
       "      <td>0.000000</td>\n",
       "      <td>1.000000</td>\n",
       "      <td>0.000000</td>\n",
       "      <td>0.000000</td>\n",
       "    </tr>\n",
       "    <tr>\n",
       "      <th>4</th>\n",
       "      <td>0.000000</td>\n",
       "      <td>0.000000</td>\n",
       "      <td>0.000000</td>\n",
       "      <td>0.000000</td>\n",
       "    </tr>\n",
       "  </tbody>\n",
       "</table>\n",
       "</div>"
      ],
      "text/plain": [
       "   good movie      like     movie       not\n",
       "0    0.707107  0.000000  0.707107  0.000000\n",
       "1    0.577350  0.000000  0.577350  0.577350\n",
       "2    0.000000  0.707107  0.000000  0.707107\n",
       "3    0.000000  1.000000  0.000000  0.000000\n",
       "4    0.000000  0.000000  0.000000  0.000000"
      ]
     },
     "execution_count": 1,
     "metadata": {},
     "output_type": "execute_result"
    }
   ],
   "source": [
    "from sklearn.feature_extraction.text import TfidfVectorizer\n",
    "import pandas as pd\n",
    "texts = [\n",
    "    \"good movie\", \"not a good movie\", \"did not like\", \n",
    "    \"i like it\", \"good one\"\n",
    "]\n",
    "# using default tokenizer in TfidfVectorizer\n",
    "tfidf = TfidfVectorizer(min_df=2, max_df=0.5, ngram_range=(1, 2))\n",
    "features = tfidf.fit_transform(texts)\n",
    "pd.DataFrame(\n",
    "    features.todense(),\n",
    "    columns=tfidf.get_feature_names()\n",
    ")"
   ]
  },
  {
   "cell_type": "code",
   "execution_count": 1,
   "metadata": {},
   "outputs": [],
   "source": [
    "import nltk"
   ]
  },
  {
   "cell_type": "code",
   "execution_count": 2,
   "metadata": {},
   "outputs": [
    {
     "name": "stderr",
     "output_type": "stream",
     "text": [
      "[nltk_data] Downloading package punkt to /home/gouri/nltk_data...\n",
      "[nltk_data]   Unzipping tokenizers/punkt.zip.\n"
     ]
    },
    {
     "data": {
      "text/plain": [
       "True"
      ]
     },
     "execution_count": 2,
     "metadata": {},
     "output_type": "execute_result"
    }
   ],
   "source": [
    "nltk.download('punkt')"
   ]
  },
  {
   "cell_type": "code",
   "execution_count": null,
   "metadata": {},
   "outputs": [],
   "source": []
  }
 ],
 "metadata": {
  "kernelspec": {
   "display_name": "Python 3",
   "language": "python",
   "name": "python3"
  },
  "language_info": {
   "codemirror_mode": {
    "name": "ipython",
    "version": 3
   },
   "file_extension": ".py",
   "mimetype": "text/x-python",
   "name": "python",
   "nbconvert_exporter": "python",
   "pygments_lexer": "ipython3",
   "version": "3.7.7"
  }
 },
 "nbformat": 4,
 "nbformat_minor": 2
}
